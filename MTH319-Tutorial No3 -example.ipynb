{
 "cells": [
  {
   "cell_type": "code",
   "execution_count": 24,
   "metadata": {},
   "outputs": [
    {
     "name": "stdout",
     "output_type": "stream",
     "text": [
      "[-6.28318531 -6.02672876 -5.77027222 -5.51381568 -5.25735913 -5.00090259\n",
      " -4.74444605 -4.48798951 -4.23153296 -3.97507642 -3.71861988 -3.46216333\n",
      " -3.20570679 -2.94925025 -2.6927937  -2.43633716 -2.17988062 -1.92342407\n",
      " -1.66696753 -1.41051099 -1.15405444 -0.8975979  -0.64114136 -0.38468481\n",
      " -0.12822827  0.12822827  0.38468481  0.64114136  0.8975979   1.15405444\n",
      "  1.41051099  1.66696753  1.92342407  2.17988062  2.43633716  2.6927937\n",
      "  2.94925025  3.20570679  3.46216333  3.71861988  3.97507642  4.23153296\n",
      "  4.48798951  4.74444605  5.00090259  5.25735913  5.51381568  5.77027222\n",
      "  6.02672876  6.28318531]\n",
      "size of x = 50\n",
      "[-6.28318531 -6.02672876 -5.77027222 -5.51381568 -5.25735913 -5.00090259\n",
      " -4.74444605 -4.48798951 -4.23153296 -3.97507642 -3.71861988 -3.46216333\n",
      " -3.20570679 -2.94925025 -2.6927937  -2.43633716 -2.17988062 -1.92342407\n",
      " -1.66696753 -1.41051099 -1.15405444 -0.8975979  -0.64114136 -0.38468481\n",
      " -0.12822827  0.12822827  0.38468481  0.64114136  0.8975979   1.15405444\n",
      "  1.41051099  1.66696753  1.92342407  2.17988062  2.43633716  2.6927937\n",
      "  2.94925025  3.20570679  3.46216333  3.71861988  3.97507642  4.23153296\n",
      "  4.48798951  4.74444605  5.00090259  5.25735913  5.51381568  5.77027222\n",
      "  6.02672876  6.28318531]\n",
      "(array([-6.28318531, -6.28318531, -6.02672876, -5.77027222, -5.51381568,\n",
      "       -5.25735913, -5.00090259, -4.74444605, -4.48798951, -4.23153296,\n",
      "       -3.97507642, -3.71861988, -3.46216333, -3.20570679, -2.94925025,\n",
      "       -2.6927937 , -2.43633716, -2.17988062, -1.92342407, -1.66696753,\n",
      "       -1.41051099, -1.15405444, -0.8975979 , -0.64114136, -0.38468481,\n",
      "       -0.12822827,  0.12822827,  0.38468481,  0.64114136,  0.8975979 ,\n",
      "        1.15405444,  1.41051099,  1.66696753,  1.92342407,  2.17988062,\n",
      "        2.43633716,  2.6927937 ,  2.94925025,  3.20570679,  3.46216333,\n",
      "        3.71861988,  3.97507642,  4.23153296,  4.48798951,  4.74444605,\n",
      "        5.00090259,  5.25735913,  5.51381568,  5.77027222,  6.02672876,\n",
      "        6.28318531,  6.28318531]), array([-3.14159265, -2.7597098 , -2.39441856, -2.06122529, -1.7735368 ,\n",
      "       -1.54178344, -1.37273681, -1.26906684, -1.22916717, -1.24726021,\n",
      "       -1.31377504, -1.41597345, -1.53878317, -1.66578375, -1.78028059,\n",
      "       -1.86639698, -1.91011256, -1.90018046, -1.82886288, -1.69243728,\n",
      "       -1.49143985, -1.23063043, -0.91868121, -0.56760941, -0.1919913 ,\n",
      "        0.1919913 ,  0.56760941,  0.91868121,  1.23063043,  1.49143985,\n",
      "        1.69243728,  1.82886288,  1.90018046,  1.91011256,  1.86639698,\n",
      "        1.78028059,  1.66578375,  1.53878317,  1.41597345,  1.31377504,\n",
      "        1.24726021,  1.22916717,  1.26906684,  1.37273681,  1.54178344,\n",
      "        1.7735368 ,  2.06122529,  2.39441856,  2.7597098 ,  3.14159265,\n",
      "        0.        ,  0.        ]), 1)\n",
      "size of ipo = 3\n",
      "[-3.14159265 -2.7597098  -2.39441856 -2.06122529 -1.7735368  -1.54178344\n",
      " -1.37273681 -1.26906684 -1.22916717 -1.24726021 -1.31377504 -1.41597345\n",
      " -1.53878317 -1.66578375 -1.78028059 -1.86639698 -1.91011256 -1.90018046\n",
      " -1.82886288 -1.69243728 -1.49143985 -1.23063043 -0.91868121 -0.56760941\n",
      " -0.1919913   0.1919913   0.56760941  0.91868121  1.23063043  1.49143985\n",
      "  1.69243728  1.82886288  1.90018046  1.91011256  1.86639698  1.78028059\n",
      "  1.66578375  1.53878317  1.41597345  1.31377504  1.24726021  1.22916717\n",
      "  1.26906684  1.37273681  1.54178344  1.7735368   2.06122529  2.39441856\n",
      "  2.7597098   3.14159265]\n",
      "True\n"
     ]
    },
    {
     "data": {
      "image/png": "[encoded data removed]",
      "text/plain": [
       "<Figure size 504x360 with 1 Axes>"
      ]
     },
     "metadata": {
      "needs_background": "light"
     },
     "output_type": "display_data"
    }
   ],
   "source": [
    "# refer to MTH319 Tutorial -No 3 - (Part I) Interpolation\n",
    "\n",
    "#interpolation method by scipy\n",
    "import scipy.interpolate as spi\n",
    "import matplotlib.pyplot as plt\n",
    "\n",
    "x = np.linspace(-2 * np.pi, 2 * np.pi)#setting x, from -2pi to 2pi, 25 elements\n",
    "print(x)\n",
    "\n",
    "print('size of x = %d'%(len(x)))\n",
    "\n",
    "\n",
    "# example 1\n",
    "# define a function f(x)\n",
    "def f(x):\n",
    "    return np.sin(x) + 0.5 * x\n",
    "print (x)\n",
    "f(np.array([10,9,8,7]))\n",
    "\n",
    "\n",
    "\n",
    "#Thirdly, Fit\n",
    "#Step1: get the knots, coefficients and degrees of the spline, ipo save the information\n",
    "#k represents degree of the spline (1<k<5) (optional)\n",
    "ipo = spi.splrep(x, f(x), k=1)  \n",
    "print(ipo)\n",
    "print('size of ipo = %d'%(len(ipo)))\n",
    "\n",
    "#generate points in the fitted curve using saved knots\n",
    "iy = spi.splev(x, ipo)  # interpolation method by scipy,calculate the results\n",
    "print(iy)\n",
    "\n",
    "plt.figure(figsize=(7,5))\n",
    "plt.plot(x, f(x), 'b', label='f(x)')\n",
    "plt.plot(x, iy, 'r.', label='interpolation')\n",
    "plt.legend(loc=0)\n",
    "plt.grid(True)\n",
    "plt.xlabel('x')\n",
    "plt.ylabel('f(x)')\n",
    "\n",
    "# test\n",
    "print(np.allclose(f(x), iy))  # test how well the interpolation performs\n",
    "#if close, return True"
   ]
  },
  {
   "cell_type": "code",
   "execution_count": 13,
   "metadata": {},
   "outputs": [
    {
     "name": "stdout",
     "output_type": "stream",
     "text": [
      "DatetimeIndex(['2016-01-01', '2016-01-02', '2016-01-03', '2016-01-04',\n",
      "               '2016-01-05', '2016-01-06', '2016-01-07', '2016-01-08'],\n",
      "              dtype='datetime64[ns]', freq='D')\n",
      "                   A         B\n",
      "2016-01-01  0.929616  0.316376\n",
      "2016-01-02  0.183919  0.204560\n",
      "2016-01-03  0.567725  0.595545\n",
      "2016-01-04  0.964515  0.653177\n",
      "2016-01-05  0.748907  0.653570\n",
      "2016-01-06  0.747715  0.961307\n",
      "2016-01-07  0.008388  0.106444\n",
      "2016-01-08  0.298704  0.656411\n",
      "              A         B\n",
      "count  8.000000  8.000000\n",
      "mean   0.556186  0.518424\n",
      "std    0.355588  0.284509\n",
      "min    0.008388  0.106444\n",
      "25%    0.270007  0.288422\n",
      "50%    0.657720  0.624361\n",
      "75%    0.794084  0.654280\n",
      "max    0.964515  0.961307\n"
     ]
    }
   ],
   "source": [
    "# refer to MTH319 Tutorial -No 3 - (Part II) Pandas\n",
    "\n",
    "import numpy as np\n",
    "import pandas as pd   # a new module\n",
    "\n",
    "#generate a series of dates\n",
    "n = 8\n",
    "dates = pd.date_range('20160101',periods= n)\n",
    "print(dates)\n",
    "\n",
    "#python's randomizaiton is pseudorandom, we use \"seed\" to fix that\n",
    "np.random.seed(12345) # fix the random numbers\n",
    "x = pd.DataFrame(np.random.rand(n,2),index=dates,columns=('A','B'))\n",
    "#n=8, np.random.rand(n,2) generates a 8 by 2 ndarryay\n",
    "\n",
    "print(x)\n",
    "\n",
    "print(x.describe())#descriptive statistics"
   ]
  },
  {
   "cell_type": "code",
   "execution_count": 14,
   "metadata": {},
   "outputs": [
    {
     "name": "stdout",
     "output_type": "stream",
     "text": [
      "0    1.0\n",
      "1    4.0\n",
      "2   -3.0\n",
      "3    NaN\n",
      "4    5.0\n",
      "dtype: float64\n",
      "1.75\n",
      "0    1.00\n",
      "1    4.00\n",
      "2   -3.00\n",
      "3    1.75\n",
      "4    5.00\n",
      "dtype: float64\n"
     ]
    }
   ],
   "source": [
    "#replace NaN with mean\n",
    "import numpy as np\n",
    "import pandas as pd\n",
    "\n",
    "x=pd.Series([1,4,-3,np.nan,5])\n",
    "print(x)\n",
    "\n",
    "m = np.mean(x)  # mean\n",
    "print(m)\n",
    "\n",
    "y = x.fillna(m) #replace\n",
    "print(y)"
   ]
  },
  {
   "cell_type": "code",
   "execution_count": 15,
   "metadata": {},
   "outputs": [
    {
     "name": "stdout",
     "output_type": "stream",
     "text": [
      "df=\n",
      "\n",
      "          0         1         2         3\n",
      "0 -1.085631  0.997345  0.282978 -1.506295\n",
      "1 -0.578600  1.651437 -2.426679 -0.428913\n",
      "2  1.265936 -0.866740 -0.678886 -0.094709\n",
      "3  1.491390 -0.638902 -0.443982 -0.434351\n",
      "4  2.205930  2.186786  1.004054  0.386186\n",
      "5  0.737369  1.490732 -0.935834  1.175829\n",
      "6 -1.253881 -0.637752  0.907105 -1.428681\n",
      "7 -0.140069 -0.861755 -0.255619 -2.798589\n",
      "8 -1.771533 -0.699877  0.927462 -0.173636\n",
      "9  0.002846  0.688223 -0.879536  0.283627\n",
      "index_n=\n",
      "\n",
      "[ 1  2  3  4  5  6  7  8  9 10]\n",
      "df2=\n",
      "\n",
      "        col1      col2      col3      col4\n",
      "1  -0.805367 -1.727669 -0.390900  0.573806\n",
      "2   0.338589 -0.011830  2.392365  0.412912\n",
      "3   0.978736  2.238143 -1.294085 -1.038788\n",
      "4   1.743712 -0.798063  0.029683  1.069316\n",
      "5   0.890706  1.754886  1.495644  1.069393\n",
      "6  -0.772709  0.794863  0.314272 -1.326265\n",
      "7   1.417299  0.807237  0.045490 -0.233092\n",
      "8  -1.198301  0.199524  0.468439 -0.831155\n",
      "9   1.162204 -1.097203 -2.123100  1.039727\n",
      "10 -0.403366 -0.126030 -0.837517 -1.605963\n",
      "the file is well saved.\n",
      "df3=\n",
      "\n",
      "   Unnamed: 0      col1      col2      col3      col4\n",
      "0           1 -0.805367 -1.727669 -0.390900  0.573806\n",
      "1           2  0.338589 -0.011830  2.392365  0.412912\n",
      "2           3  0.978736  2.238143 -1.294085 -1.038788\n",
      "3           4  1.743712 -0.798063  0.029683  1.069316\n",
      "4           5  0.890706  1.754886  1.495644  1.069393\n",
      "5           6 -0.772709  0.794863  0.314272 -1.326265\n",
      "6           7  1.417299  0.807237  0.045490 -0.233092\n",
      "7           8 -1.198301  0.199524  0.468439 -0.831155\n",
      "8           9  1.162204 -1.097203 -2.123100  1.039727\n",
      "9          10 -0.403366 -0.126030 -0.837517 -1.605963\n",
      "       col1      col2      col3      col4\n",
      "0 -0.805367 -1.727669 -0.390900  0.573806\n",
      "1  0.338589 -0.011830  2.392365  0.412912\n",
      "2  0.978736  2.238143 -1.294085 -1.038788\n",
      "3  1.743712 -0.798063  0.029683  1.069316\n",
      "4  0.890706  1.754886  1.495644  1.069393\n",
      "5 -0.772709  0.794863  0.314272 -1.326265\n",
      "6  1.417299  0.807237  0.045490 -0.233092\n",
      "7 -1.198301  0.199524  0.468439 -0.831155\n",
      "8  1.162204 -1.097203 -2.123100  1.039727\n",
      "9 -0.403366 -0.126030 -0.837517 -1.605963\n"
     ]
    }
   ],
   "source": [
    "#output an excel file\n",
    "import numpy as np\n",
    "import pandas as pd\n",
    "\n",
    "np.random.seed(123)\n",
    "\n",
    "n = 10\n",
    "df = pd.DataFrame(np.random.randn(n, 4))\n",
    "print('df=\\n')\n",
    "print(df)\n",
    "\n",
    "index_n = np.arange(1, n+1, 1, int)\n",
    "print('index_n=\\n')\n",
    "print(index_n)\n",
    "\n",
    "df2 = pd.DataFrame(np.random.randn(n, 4),index = index_n, columns=['col1','col2', 'col3', 'col4'])\n",
    "print('df2=\\n')\n",
    "print(df2)\n",
    "\n",
    "df2.to_excel(r\"test.xlsx\")# r means string. convert to excel\n",
    "print('the file is well saved.')\n",
    "\n",
    "df3 = pd.read_excel(r\"test.xlsx\")\n",
    "print('df3=\\n')\n",
    "print(df3)\n",
    "print(df3.iloc[:,1:]) # get all rows with 1-n collumns\n"
   ]
  },
  {
   "cell_type": "code",
   "execution_count": 17,
   "metadata": {
    "scrolled": false
   },
   "outputs": [
    {
     "name": "stdout",
     "output_type": "stream",
     "text": [
      "x1=\n",
      "\n",
      "[ 1.    1.25  1.5   1.75  2.    2.25  2.5   2.75  3.    3.25  3.5   3.75\n",
      "  4.    4.25  4.5   4.75  5.    5.25  5.5   5.75  6.    6.25  6.5   6.75\n",
      "  7.    7.25  7.5   7.75  8.    8.25  8.5   8.75  9.    9.25  9.5   9.75\n",
      " 10.  ]\n",
      "x=\n",
      "\n",
      "[  1.       1.5625   2.25     3.0625   4.       5.0625   6.25     7.5625\n",
      "   9.      10.5625  12.25    14.0625  16.      18.0625  20.25    22.5625\n",
      "  25.      27.5625  30.25    33.0625  36.      39.0625  42.25    45.5625\n",
      "  49.      52.5625  56.25    60.0625  64.      68.0625  72.25    76.5625\n",
      "  81.      85.5625  90.25    95.0625 100.    ]\n",
      "n=37\n",
      "y=\n",
      "\n",
      "0      0.795292\n",
      "1      2.041443\n",
      "2      1.730561\n",
      "3      2.506770\n",
      "4      5.965781\n",
      "5      6.455906\n",
      "6      6.342908\n",
      "7      7.844246\n",
      "8      9.769023\n",
      "9     11.808935\n",
      "10    13.257189\n",
      "11    12.766279\n",
      "12    16.274992\n",
      "13    18.291413\n",
      "14    21.602917\n",
      "15    23.448929\n",
      "16    22.998363\n",
      "17    27.190657\n",
      "18    31.919025\n",
      "19    32.623930\n",
      "20    35.460259\n",
      "21    39.539485\n",
      "22    45.498944\n",
      "23    44.541272\n",
      "24    48.422913\n",
      "25    52.686621\n",
      "26    56.552614\n",
      "27    60.586272\n",
      "28    64.000940\n",
      "29    69.406310\n",
      "30    71.536456\n",
      "31    75.731346\n",
      "32    78.629768\n",
      "33    83.701739\n",
      "34    89.389243\n",
      "35    95.622645\n",
      "36    98.734066\n",
      "dtype: float64\n",
      "new y=\n",
      "\n",
      "0      0.795292\n",
      "1           NaN\n",
      "2      1.730561\n",
      "3      2.506770\n",
      "4           NaN\n",
      "5      6.455906\n",
      "6      6.342908\n",
      "7      7.844246\n",
      "8      9.769023\n",
      "9     11.808935\n",
      "10    13.257189\n",
      "11    12.766279\n",
      "12    16.274992\n",
      "13          NaN\n",
      "14          NaN\n",
      "15          NaN\n",
      "16          NaN\n",
      "17    27.190657\n",
      "18    31.919025\n",
      "19          NaN\n",
      "20          NaN\n",
      "21    39.539485\n",
      "22    45.498944\n",
      "23    44.541272\n",
      "24    48.422913\n",
      "25    52.686621\n",
      "26    56.552614\n",
      "27    60.586272\n",
      "28    64.000940\n",
      "29    69.406310\n",
      "30          NaN\n",
      "31    75.731346\n",
      "32    78.629768\n",
      "33    83.701739\n",
      "34    89.389243\n",
      "35    95.622645\n",
      "36    98.734066\n",
      "dtype: float64\n",
      "df=\n",
      "\n",
      "       linear  quadratic      cubic\n",
      "0    0.795292   0.795292   0.795292\n",
      "1    1.262927   1.223966   1.660242\n",
      "2    1.730561   1.730561   1.730561\n",
      "3    2.506770   2.506770   2.506770\n",
      "4    4.481338   4.702740   4.774009\n",
      "5    6.455906   6.455906   6.455906\n",
      "6    6.342908   6.342908   6.342908\n",
      "7    7.844246   7.844246   7.844246\n",
      "8    9.769023   9.769023   9.769023\n",
      "9   11.808935  11.808935  11.808935\n",
      "10  13.257189  13.257189  13.257189\n",
      "11  12.766279  12.766279  12.766279\n",
      "12  16.274992  16.274992  16.274992\n",
      "13  18.458125  19.335251  19.248765\n",
      "14  20.641258  21.002873  20.819238\n",
      "15  22.824391  21.659487  21.994392\n",
      "16  25.007524  23.594872  23.782205\n",
      "17  27.190657  27.190657  27.190657\n",
      "18  31.919025  31.919025  31.919025\n",
      "19  34.459179  34.613066  34.139401\n",
      "20  36.999332  35.547714  35.545703\n",
      "21  39.539485  39.539485  39.539485\n",
      "22  45.498944  45.498944  45.498944\n",
      "23  44.541272  44.541272  44.541272\n",
      "24  48.422913  48.422913  48.422913\n",
      "25  52.686621  52.686621  52.686621\n",
      "26  56.552614  56.552614  56.552614\n",
      "27  60.586272  60.586272  60.586272\n",
      "28  64.000940  64.000940  64.000940\n",
      "29  69.406310  69.406310  69.406310\n",
      "30  72.568828  73.164963  73.276021\n",
      "31  75.731346  75.731346  75.731346\n",
      "32  78.629768  78.629768  78.629768\n",
      "33  83.701739  83.701739  83.701739\n",
      "34  89.389243  89.389243  89.389243\n",
      "35  95.622645  95.622645  95.622645\n",
      "36  98.734066  98.734066  98.734066\n"
     ]
    },
    {
     "data": {
      "text/plain": [
       "<AxesSubplot:>"
      ]
     },
     "execution_count": 17,
     "metadata": {},
     "output_type": "execute_result"
    },
    {
     "data": {
      "text/plain": [
       "<Figure size 504x288 with 0 Axes>"
      ]
     },
     "metadata": {},
     "output_type": "display_data"
    },
    {
     "data": {
      "image/png": "[encoded data removed]",
      "text/plain": [
       "<Figure size 432x288 with 1 Axes>"
      ]
     },
     "metadata": {
      "needs_background": "light"
     },
     "output_type": "display_data"
    }
   ],
   "source": [
    "#use dictionary to create a dataframe, and comprehensive expression\n",
    "import numpy as np\n",
    "import pandas as pd\n",
    "import matplotlib.pyplot as plt\n",
    "\n",
    "np.random.seed(12345) # fix the random numbers\n",
    "x1 = np.arange(1, 10.1, .25)\n",
    "print('x1=\\n')\n",
    "print(x1)\n",
    "x = x1**2\n",
    "print('x=\\n')\n",
    "print(x)\n",
    "\n",
    "n=np.size(x)\n",
    "print('n=%d'%(n))\n",
    "\n",
    "y = pd.Series(x + np.random.randn(n))#generate a pandas.core.series.Series = argument\n",
    "print('y=\\n')\n",
    "print(y)\n",
    "\n",
    "bad=np.array([1,4,13,14,15,16,19, 20,30]) # generate a few missing values\n",
    "y[bad] = np.nan # missing code is np.nan\n",
    "print('new y=\\n')\n",
    "print(y)\n",
    "\n",
    "#plot\n",
    "plt.figure(figsize=(7,4))\n",
    "methods = ['linear', 'quadratic', 'cubic']  # interpolation methods by pd\n",
    "df = pd.DataFrame({m: y.interpolate(method=m) for m in methods})\n",
    "print('df=\\n')\n",
    "print(df)\n",
    "\n",
    "df.plot()"
   ]
  },
  {
   "cell_type": "code",
   "execution_count": 19,
   "metadata": {},
   "outputs": [
    {
     "data": {
      "text/html": [
       "<div>\n",
       "<style scoped>\n",
       "    .dataframe tbody tr th:only-of-type {\n",
       "        vertical-align: middle;\n",
       "    }\n",
       "\n",
       "    .dataframe tbody tr th {\n",
       "        vertical-align: top;\n",
       "    }\n",
       "\n",
       "    .dataframe thead th {\n",
       "        text-align: right;\n",
       "    }\n",
       "</style>\n",
       "<table border=\"1\" class=\"dataframe\">\n",
       "  <thead>\n",
       "    <tr style=\"text-align: right;\">\n",
       "      <th></th>\n",
       "      <th>a</th>\n",
       "      <th>b</th>\n",
       "    </tr>\n",
       "  </thead>\n",
       "  <tbody>\n",
       "    <tr>\n",
       "      <th>0</th>\n",
       "      <td>1</td>\n",
       "      <td>2</td>\n",
       "    </tr>\n",
       "  </tbody>\n",
       "</table>\n",
       "</div>"
      ],
      "text/plain": [
       "   a  b\n",
       "0  1  2"
      ]
     },
     "execution_count": 19,
     "metadata": {},
     "output_type": "execute_result"
    }
   ],
   "source": [
    "import pandas as pd\n",
    "df_example = pd.DataFrame({'a':[1],'b':[2]})\n",
    "df_example"
   ]
  },
  {
   "cell_type": "code",
   "execution_count": 20,
   "metadata": {},
   "outputs": [
    {
     "data": {
      "text/html": [
       "<div>\n",
       "<style scoped>\n",
       "    .dataframe tbody tr th:only-of-type {\n",
       "        vertical-align: middle;\n",
       "    }\n",
       "\n",
       "    .dataframe tbody tr th {\n",
       "        vertical-align: top;\n",
       "    }\n",
       "\n",
       "    .dataframe thead th {\n",
       "        text-align: right;\n",
       "    }\n",
       "</style>\n",
       "<table border=\"1\" class=\"dataframe\">\n",
       "  <thead>\n",
       "    <tr style=\"text-align: right;\">\n",
       "      <th></th>\n",
       "      <th>a</th>\n",
       "      <th>b</th>\n",
       "    </tr>\n",
       "  </thead>\n",
       "  <tbody>\n",
       "    <tr>\n",
       "      <th>0</th>\n",
       "      <td>1</td>\n",
       "      <td>2</td>\n",
       "    </tr>\n",
       "  </tbody>\n",
       "</table>\n",
       "</div>"
      ],
      "text/plain": [
       "   a  b\n",
       "0  1  2"
      ]
     },
     "execution_count": 20,
     "metadata": {},
     "output_type": "execute_result"
    }
   ],
   "source": [
    "import pandas as pd\n",
    "df_example = pd.DataFrame({'a':1,'b':2}, index=[0])\n",
    "df_example"
   ]
  },
  {
   "cell_type": "code",
   "execution_count": null,
   "metadata": {},
   "outputs": [],
   "source": []
  },
  {
   "cell_type": "code",
   "execution_count": 7,
   "metadata": {},
   "outputs": [
    {
     "name": "stdout",
     "output_type": "stream",
     "text": [
      "10108\n"
     ]
    }
   ],
   "source": [
    "function_name = lambda x:x**2+x+8\n",
    "function_name(100)\n",
    "print(function_name(100))"
   ]
  },
  {
   "cell_type": "code",
   "execution_count": 6,
   "metadata": {},
   "outputs": [
    {
     "data": {
      "text/plain": [
       "10108"
      ]
     },
     "execution_count": 6,
     "metadata": {},
     "output_type": "execute_result"
    }
   ],
   "source": [
    "def func(x):\n",
    "      return x**2+x+8\n",
    "func(100)"
   ]
  },
  {
   "cell_type": "code",
   "execution_count": null,
   "metadata": {},
   "outputs": [],
   "source": []
  }
 ],
 "metadata": {
  "kernelspec": {
   "display_name": "Python 3 (ipykernel)",
   "language": "python",
   "name": "python3"
  },
  "language_info": {
   "codemirror_mode": {
    "name": "ipython",
    "version": 3
   },
   "file_extension": ".py",
   "mimetype": "text/x-python",
   "name": "python",
   "nbconvert_exporter": "python",
   "pygments_lexer": "ipython3",
   "version": "3.9.12"
  }
 },
 "nbformat": 4,
 "nbformat_minor": 2
}
